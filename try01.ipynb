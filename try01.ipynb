{
  "nbformat": 4,
  "nbformat_minor": 0,
  "metadata": {
    "colab": {
      "name": "try01.ipynb",
      "version": "0.3.2",
      "provenance": [],
      "include_colab_link": true
    },
    "kernelspec": {
      "name": "python3",
      "display_name": "Python 3"
    }
  },
  "cells": [
    {
      "cell_type": "markdown",
      "metadata": {
        "id": "view-in-github",
        "colab_type": "text"
      },
      "source": [
        "<a href=\"https://colab.research.google.com/github/akhin57/gcolabtest/blob/master/try01.ipynb\" target=\"_parent\"><img src=\"https://colab.research.google.com/assets/colab-badge.svg\" alt=\"Open In Colab\"/></a>"
      ]
    },
    {
      "metadata": {
        "id": "0rhhiUdpyISJ",
        "colab_type": "text"
      },
      "cell_type": "markdown",
      "source": [
        "Jupyter Notebook တွေကို ဘယ်လို အခမဲ့ ထားပြီး၊ ပေးကြည့်ရမလဲ လိုက်ရှာတော့ ဒီ တစ်ခုလည်း တွေ့ပါတယ်။ ဒါကတော့ GitHub မှာ သိမ်းရပါတယ်တဲ့ ...\n",
        "\n"
      ]
    },
    {
      "metadata": {
        "id": "6DdGT38RxfVi",
        "colab_type": "code",
        "outputId": "d4e29edb-24d1-4e5b-a7fb-b98f6f9a2e02",
        "colab": {
          "base_uri": "https://localhost:8080/",
          "height": 149
        }
      },
      "cell_type": "code",
      "source": [
        "print \"hello\""
      ],
      "execution_count": 0,
      "outputs": [
        {
          "output_type": "error",
          "ename": "SyntaxError",
          "evalue": "ignored",
          "traceback": [
            "\u001b[0;36m  File \u001b[0;32m\"<ipython-input-1-2a0eaa89f43f>\"\u001b[0;36m, line \u001b[0;32m1\u001b[0m\n\u001b[0;31m    print \"hello\"\u001b[0m\n\u001b[0m                ^\u001b[0m\n\u001b[0;31mSyntaxError\u001b[0m\u001b[0;31m:\u001b[0m Missing parentheses in call to 'print'. Did you mean print(\"hello\")?\n"
          ]
        }
      ]
    },
    {
      "metadata": {
        "id": "H0h-X_rmxwHO",
        "colab_type": "code",
        "outputId": "ab04ea55-86e6-468f-caf7-bdef411bd00a",
        "colab": {
          "base_uri": "https://localhost:8080/",
          "height": 34
        }
      },
      "cell_type": "code",
      "source": [
        "print(\"မင်္ဂလာပါ\")"
      ],
      "execution_count": 0,
      "outputs": [
        {
          "output_type": "stream",
          "text": [
            "မင်္ဂလာပါ\n"
          ],
          "name": "stdout"
        }
      ]
    }
  ]
}