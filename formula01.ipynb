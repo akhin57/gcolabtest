{
  "nbformat": 4,
  "nbformat_minor": 0,
  "metadata": {
    "colab": {
      "name": "Untitled1.ipynb",
      "version": "0.3.2",
      "provenance": [],
      "include_colab_link": true
    },
    "kernelspec": {
      "name": "python3",
      "display_name": "Python 3"
    }
  },
  "cells": [
    {
      "cell_type": "markdown",
      "metadata": {
        "id": "view-in-github",
        "colab_type": "text"
      },
      "source": [
        "<a href=\"https://colab.research.google.com/github/akhin57/gcolabtest/blob/master/formula01.ipynb\" target=\"_parent\"><img src=\"https://colab.research.google.com/assets/colab-badge.svg\" alt=\"Open In Colab\"/></a>"
      ]
    },
    {
      "metadata": {
        "id": "p3zxmGLLsXcQ",
        "colab_type": "code",
        "colab": {}
      },
      "cell_type": "code",
      "source": [
        "from IPython.display import Math, HTML"
      ],
      "execution_count": 0,
      "outputs": []
    },
    {
      "metadata": {
        "id": "xHH6_fYaqC4R",
        "colab_type": "text"
      },
      "cell_type": "markdown",
      "source": [
        "https://theinlinaung.com/kinetic-theory-of-gases-2/"
      ]
    },
    {
      "metadata": {
        "id": "iaRa0Ynqqzr7",
        "colab_type": "text"
      },
      "cell_type": "markdown",
      "source": [
        "မော်လီကျူး နှစ်ခု တိုက်မိတဲ့ ဖြစ်စဉ်ကို သူတို့ရဲ့ ဒြပ်ထု ဗဟိုချက် (center of mass) ကနေ ကြည့်ကြည့်ရအောင် (collision from CM System)။  CM ရဲ့ အလျင်ကို ရှာဖို့ မော်လီကျူး အလျင်တွေကို သူတို့ရဲ့ ဒြပ်ထုနဲ့ မြှောက်ပြီး ပျမ်းမျှ ယူရပါမယ်။"
      ]
    },
    {
      "metadata": {
        "id": "VRs6MeTVrIPY",
        "colab_type": "text"
      },
      "cell_type": "markdown",
      "source": [
        "\\frac{n!}{k!(n-k)!} = \\binom{n}{k}\n",
        "{\\displaystyle {\\frac {n!}{k!(n-k)!}}={\\binom {n}{k}}}"
      ]
    }
  ]
}